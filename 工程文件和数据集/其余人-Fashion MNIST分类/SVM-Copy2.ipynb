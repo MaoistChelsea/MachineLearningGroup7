{
 "cells": [
  {
   "cell_type": "code",
   "execution_count": 1,
   "id": "3b7d3919",
   "metadata": {},
   "outputs": [],
   "source": [
    "import numpy as np\n",
    "from sklearn import svm\n",
    "import matplotlib.colors\n",
    "import matplotlib.pyplot as plt\n",
    "from PIL import Image\n",
    "from sklearn.metrics import accuracy_score\n",
    "import pandas as pd\n",
    "import os\n",
    "import csv\n",
    "from sklearn.model_selection import train_test_split\n",
    "from sklearn.model_selection import GridSearchCV\n",
    "from sklearn.ensemble import RandomForestClassifier\n",
    "from time import time\n",
    "from pprint import pprint"
   ]
  },
  {
   "cell_type": "code",
   "execution_count": 3,
   "id": "84414120",
   "metadata": {},
   "outputs": [],
   "source": [
    "def save_image(im, i):\n",
    "    im = 255 - im.values.reshape(28, 28)\n",
    "    a = im.astype(np.uint8)\n",
    "    output_path = '.\\\\fashion'\n",
    "    if not os.path.exists(output_path):\n",
    "        os.mkdir(output_path)\n",
    "    Image.fromarray(a).save(output_path + ('\\\\%d.png' % i))"
   ]
  },
  {
   "cell_type": "code",
   "execution_count": 2,
   "id": "97937a84",
   "metadata": {},
   "outputs": [],
   "source": [
    "def save_result(model):\n",
    "    print(data_test.shape)\n",
    "    x_test = data_test.drop('label', axis=1)\n",
    "    print(x_test.shape)\n",
    "    print('正在预测')\n",
    "    data_test_pred = model.predict(x_test)\n",
    "    data_test['Label'] = data_test_pred\n",
    "    data_test.to_csv('Prediction.csv', header=True, index=True, columns=['Label'])\n",
    "    print('预测完成，结果保存到Prediction.csv中')"
   ]
  },
  {
   "cell_type": "code",
   "execution_count": 14,
   "id": "f1922690",
   "metadata": {},
   "outputs": [
    {
     "name": "stdout",
     "output_type": "stream",
     "text": [
      "载入训练数据...\n",
      "载入完成，耗时9.495173秒\n",
      "(60000, 784) (12000, 784)\n",
      "图片个数：60000，图片像素数目：784\n",
      "载入测试数据...\n",
      "载入完成，耗时2.493652秒\n"
     ]
    }
   ],
   "source": [
    "if __name__ == \"__main__\":\n",
    "    classifier_type = 'SVM'#可通过classifier_type的更改选择SVM或随机森林（相比之下SVM真的慢）\n",
    "    print('载入训练数据...')\n",
    "    t = time()\n",
    "    data = pd.read_csv('.\\\\fashion-mnist_train.csv', header=0, dtype=int)\n",
    "    print('载入完成，耗时%f秒' % (time() - t))\n",
    "    x, y = data.iloc[:, 1:], data['label']\n",
    "    x_train, x_valid, y_train, y_valid = train_test_split(x, y, train_size=0.8, random_state=1)\n",
    "    print(x.shape, x_valid.shape)\n",
    "    print('图片个数：%d，图片像素数目：%d' % x.shape)\n",
    "\n",
    "    print('载入测试数据...')\n",
    "    t = time()\n",
    "    data_test = pd.read_csv('.\\\\fashion-mnist_test.csv', header=0, dtype=int)\n",
    "    print('载入完成，耗时%f秒' % (time() - t))"
   ]
  },
  {
   "cell_type": "code",
   "execution_count": 6,
   "id": "fdc3897d",
   "metadata": {},
   "outputs": [
    {
     "name": "stdout",
     "output_type": "stream",
     "text": [
      "SVM开始训练...\n",
      "SVM训练结束，耗时10分钟35.653秒\n",
      "SVM训练集准确率：87.465%，耗时28分钟49.971秒\n",
      "SVM测试集准确率：85.925%，耗时7分钟19.055秒\n"
     ]
    }
   ],
   "source": [
    "    if classifier_type == 'SVM':\n",
    "        model = svm.SVC(C=1000, kernel='rbf', gamma=1e-10)\n",
    "        print('SVM开始训练...')\n",
    "        history = []  # 用于记录每次训练和验证的准确率及耗时\n",
    "    \n",
    "    t = time()\n",
    "    t_start = time()\n",
    "    model.fit(x_train, y_train)\n",
    "    t = time() - t\n",
    "    t_start = time()\n",
    "    print('%s训练结束，耗时%d分钟%.3f秒' % (classifier_type, int(t/60), t - 60*int(t/60)))\n",
    "    \n",
    "    t = time()\n",
    "    t_pred = time()\n",
    "    y_train_pred = model.predict(x_train)\n",
    "    t = time() - t\n",
    "    t_pred = time() - t_pred\n",
    "    history.append(('train', accuracy_score(y_train, y_train_pred)*100, t_pred))\n",
    "    print('%s训练集准确率：%.3f%%，耗时%d分钟%.3f秒' % (classifier_type, accuracy_score(y_train, y_train_pred)*100, int(t/60), t - 60*int(t/60)))\n",
    "    \n",
    "    t = time()\n",
    "    t_pred = time()\n",
    "    y_valid_pred = model.predict(x_valid)\n",
    "    t = time() - t\n",
    "    t_pred = time() - t_pred\n",
    "    print('%s测试集准确率：%.3f%%，耗时%d分钟%.3f秒' % (classifier_type, accuracy_score(y_valid, y_valid_pred)*100, int(t/60), t - 60*int(t/60)))\n",
    "    history.append(('valid', accuracy_score(y_valid, y_valid_pred)*100, t_pred))\n",
    "    "
   ]
  },
  {
   "cell_type": "code",
   "execution_count": 21,
   "id": "729e02fb",
   "metadata": {},
   "outputs": [
    {
     "name": "stdout",
     "output_type": "stream",
     "text": [
      "(10000, 785)\n",
      "(10000, 784)\n",
      "正在预测\n",
      "预测完成，结果保存到Prediction.csv中\n"
     ]
    }
   ],
   "source": [
    "    save_result(model)"
   ]
  },
  {
   "cell_type": "code",
   "execution_count": 12,
   "id": "1cfda4ea",
   "metadata": {},
   "outputs": [
    {
     "data": {
      "text/plain": [
       "0       0\n",
       "1       1\n",
       "2       2\n",
       "3       0\n",
       "4       3\n",
       "       ..\n",
       "9995    0\n",
       "9996    6\n",
       "9997    8\n",
       "9998    8\n",
       "9999    1\n",
       "Name: Label, Length: 10000, dtype: int32"
      ]
     },
     "execution_count": 12,
     "metadata": {},
     "output_type": "execute_result"
    }
   ],
   "source": [
    "    data_pred = pd.read_csv('.\\\\Prediction.csv', header=0, dtype=int)\n",
    "    data_pred = data_pred['Label']\n",
    "    data_pred"
   ]
  },
  {
   "cell_type": "code",
   "execution_count": 10,
   "id": "6ad6a826",
   "metadata": {},
   "outputs": [
    {
     "data": {
      "text/plain": [
       "0       0\n",
       "1       1\n",
       "2       2\n",
       "3       2\n",
       "4       3\n",
       "       ..\n",
       "9995    0\n",
       "9996    6\n",
       "9997    8\n",
       "9998    8\n",
       "9999    1\n",
       "Name: label, Length: 10000, dtype: int32"
      ]
     },
     "execution_count": 10,
     "metadata": {},
     "output_type": "execute_result"
    }
   ],
   "source": [
    "    data_real = data_test['label']\n",
    "    data_real"
   ]
  },
  {
   "cell_type": "code",
   "execution_count": 33,
   "id": "79ec027c",
   "metadata": {},
   "outputs": [
    {
     "data": {
      "text/plain": [
       "86.77"
      ]
     },
     "execution_count": 33,
     "metadata": {},
     "output_type": "execute_result"
    }
   ],
   "source": [
    "accuracy_score(data_real, data_pred)*100"
   ]
  },
  {
   "cell_type": "code",
   "execution_count": 22,
   "id": "b10d969b",
   "metadata": {},
   "outputs": [
    {
     "data": {
      "text/plain": [
       "(10, 784)"
      ]
     },
     "execution_count": 22,
     "metadata": {},
     "output_type": "execute_result"
    }
   ],
   "source": [
    "# 随机选择一些样本进行展示\n",
    "indices = np.random.choice(len(data_pred), 10)\n",
    "images = data_test.drop('label', axis=1).iloc[indices].values#提取一行\n",
    "labels_true = data_real[indices]\n",
    "labels_pred = data_pred[indices]\n",
    "images.shape"
   ]
  },
  {
   "cell_type": "code",
   "execution_count": 23,
   "id": "1c1282b0",
   "metadata": {},
   "outputs": [
    {
     "data": {
      "image/png": "[encoded data removed]",
      "text/plain": [
       "<Figure size 1200x600 with 10 Axes>"
      ]
     },
     "metadata": {},
     "output_type": "display_data"
    }
   ],
   "source": [
    "assert isinstance(images, np.ndarray)#\"确保images是numpy数组\"\n",
    "# 展示图像及其真实和预测标签\n",
    "fig, axes = plt.subplots(2, 5, figsize=(12, 6))\n",
    "for img, true_label, pred_label, ax in zip(images, labels_true, labels_pred, axes.flatten()):\n",
    "    ax.imshow(img.reshape(28, 28), cmap='gray')\n",
    "    ax.set_title(f'True: {true_label}, Pred: {pred_label}')\n",
    "    ax.axis('off')\n",
    "plt.tight_layout()\n",
    "plt.show()"
   ]
  }
 ],
 "metadata": {
  "kernelspec": {
   "display_name": "Python 3 (ipykernel)",
   "language": "python",
   "name": "python3"
  },
  "language_info": {
   "codemirror_mode": {
    "name": "ipython",
    "version": 3
   },
   "file_extension": ".py",
   "mimetype": "text/x-python",
   "name": "python",
   "nbconvert_exporter": "python",
   "pygments_lexer": "ipython3",
   "version": "3.11.4"
  }
 },
 "nbformat": 4,
 "nbformat_minor": 5
}
